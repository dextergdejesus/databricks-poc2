{
 "cells": [
  {
   "cell_type": "code",
   "execution_count": 0,
   "metadata": {
    "application/vnd.databricks.v1+cell": {
     "cellMetadata": {
      "byteLimit": 2048000,
      "rowLimit": 10000
     },
     "inputWidgets": {},
     "nuid": "80690a48-2519-4d93-8f2f-5a257b9ac8de",
     "showTitle": false,
     "tableResultSettingsMap": {},
     "title": ""
    }
   },
   "outputs": [],
   "source": [
    "# dbutils.library.restartPython()\n",
    "# import importlib\n",
    "# importlib.reload(logging_helper)"
   ]
  },
  {
   "cell_type": "code",
   "execution_count": 0,
   "metadata": {
    "application/vnd.databricks.v1+cell": {
     "cellMetadata": {
      "byteLimit": 2048000,
      "rowLimit": 10000
     },
     "inputWidgets": {},
     "nuid": "11413d02-1e6a-4a09-83ff-d6aa1eb51a40",
     "showTitle": true,
     "tableResultSettingsMap": {},
     "title": "Import libraries"
    }
   },
   "outputs": [],
   "source": [
    "from utils import logging_helper, curation_helper"
   ]
  },
  {
   "cell_type": "code",
   "execution_count": 0,
   "metadata": {
    "application/vnd.databricks.v1+cell": {
     "cellMetadata": {
      "byteLimit": 2048000,
      "rowLimit": 10000
     },
     "inputWidgets": {},
     "nuid": "9b110dd1-480a-43ef-82d2-e0bc680539ff",
     "showTitle": true,
     "tableResultSettingsMap": {},
     "title": "Establish data lake connection"
    }
   },
   "outputs": [],
   "source": [
    "# fn_adls_connector(kv_secret_scope, storage_account, application_id, service_principal, tenant_id)\n",
    "curation_helper.fn_adls_connector()"
   ]
  },
  {
   "cell_type": "code",
   "execution_count": 0,
   "metadata": {
    "application/vnd.databricks.v1+cell": {
     "cellMetadata": {
      "byteLimit": 2048000,
      "rowLimit": 10000
     },
     "inputWidgets": {},
     "nuid": "e21745a0-d077-4446-a373-75246a6e9b0b",
     "showTitle": true,
     "tableResultSettingsMap": {},
     "title": "Get table metadata for ingestion"
    }
   },
   "outputs": [],
   "source": [
    "# this command is to create the widget/parameter required for this notebook\n",
    "dbutils.widgets.text(\"p_entity_name\",\"\",\"\")\n",
    "dbutils.widgets.dropdown(\"p_is_all_entity\", \"no\", [\"yes\", \"no\"], \"All tables?\")\n",
    "\n",
    "# initialize variables from the widgets\n",
    "entity_name = dbutils.widgets.get(\"p_entity_name\")\n",
    "is_all_entity = dbutils.widgets.get(\"p_is_all_entity\")\n",
    "\n",
    "table_metadata = curation_helper.fn_get_entity_list(entity_name,is_all_entity)"
   ]
  },
  {
   "cell_type": "code",
   "execution_count": 0,
   "metadata": {
    "application/vnd.databricks.v1+cell": {
     "cellMetadata": {
      "byteLimit": 2048000,
      "rowLimit": 10000
     },
     "inputWidgets": {},
     "nuid": "908d1f38-3e6e-4b91-9779-df71971217f3",
     "showTitle": true,
     "tableResultSettingsMap": {},
     "title": "Perform data ingestion"
    }
   },
   "outputs": [],
   "source": [
    "\n",
    "rows = table_metadata.collect()\n",
    "print(f\"Starting data processing\")\n",
    "for row in rows:\n",
    "    results_log = []\n",
    "    stage = \"bronze_to_silver\"\n",
    "    try:\n",
    "        status = \"Success\"\n",
    "        table_name = row[\"EntityName\"]\n",
    "        bronze_name = row[\"BronzeTableName\"]\n",
    "        bronze_path = row[\"BronzePath\"]\n",
    "        load_type = row[\"LoadType\"]\n",
    "        bronze_format = row[\"BronzeFormat\"]\n",
    "        bronze_catalog = row[\"BronzeCatalog\"]\n",
    "        bronze_schema = row[\"BronzeSchema\"]\n",
    "        silver_name = row[\"SilverTableName\"]\n",
    "        silver_format = row[\"SilverFormat\"]\n",
    "        silver_catalog = row[\"SilverCatalog\"]\n",
    "        silver_schema = row[\"SilverSchema\"]\n",
    "\n",
    "        print(f\"Processing entity: {table_name}\")\n",
    "\n",
    "        curation_helper.fn_register_uc_table (\n",
    "            table_format=bronze_format, \n",
    "            table_catalog=bronze_catalog, \n",
    "            table_schema=bronze_schema, \n",
    "            table_name=bronze_name, \n",
    "            table_path=bronze_path)\n",
    "\n",
    "\n",
    "        # Read all the files in all subdirectories under the bronze path\n",
    "        bronze_df = curation_helper.fn_read_bronze(bronze_path)\n",
    "\n",
    "        bronze_count = bronze_df.count()\n",
    "\n",
    "        # Get schema of the table to be ingested\n",
    "        schema_df = curation_helper.fn_get_entity_schema(table_name)\n",
    "        \n",
    "        # Perform data transformations\n",
    "        curated_df, primary_key = curation_helper.fn_apply_cleansing(bronze_df,schema_df)\n",
    "        silver_count = curated_df.count()\n",
    "\n",
    "        # Perform UPSERT\n",
    "        operation = curation_helper.fn_write_to_silver(\n",
    "            cleaned_bronze_df=curated_df,\n",
    "            load_type=load_type,\n",
    "            primary_key=primary_key,\n",
    "            entity_name=table_name,\n",
    "            table_format = silver_format,\n",
    "            table_catalog = silver_catalog,\n",
    "            table_schema = silver_schema,\n",
    "            silver_name=silver_name)\n",
    "        \n",
    "        # Update entity table\n",
    "        curation_helper.fn_update_entity_metadata(table_name)\n",
    "        \n",
    "        logging_helper.log_append(results_log,stage,table_name,operation,status,bronze_count,silver_count)\n",
    "    except Exception as e:\n",
    "        status = \"Failed\"\n",
    "        operation = \"Exception Error\"\n",
    "        error_message = str(e)\n",
    "        logging_helper.log_append(results_log,stage,table_name,operation,status,error_message)\n",
    "        \n",
    "        print(f\"Error processing entity: {table_name}: {str(e)}\")\n",
    "        raise\n",
    "    finally:\n",
    "        logging_helper.log_write(spark, results_log)"
   ]
  }
 ],
 "metadata": {
  "application/vnd.databricks.v1+notebook": {
   "computePreferences": null,
   "dashboards": [],
   "environmentMetadata": {
    "base_environment": "",
    "environment_version": "3"
   },
   "inputWidgetPreferences": null,
   "language": "python",
   "notebookMetadata": {
    "pythonIndentUnit": 4
   },
   "notebookName": "bronze_to_silver",
   "widgets": {
    "p_entity_name": {
     "currentValue": "Project",
     "nuid": "21b4a276-54b0-480e-b201-e4da983c0a80",
     "typedWidgetInfo": {
      "autoCreated": false,
      "defaultValue": "",
      "label": "",
      "name": "p_entity_name",
      "options": {
       "widgetDisplayType": "Text",
       "validationRegex": null
      },
      "parameterDataType": "String"
     },
     "widgetInfo": {
      "widgetType": "text",
      "defaultValue": "",
      "label": "",
      "name": "p_entity_name",
      "options": {
       "widgetType": "text",
       "autoCreated": null,
       "validationRegex": null
      }
     }
    },
    "p_is_all_entity": {
     "currentValue": "no",
     "nuid": "57b1a2fd-1858-462b-b1f7-5ef3b1de4a1d",
     "typedWidgetInfo": {
      "autoCreated": false,
      "defaultValue": "no",
      "label": "All tables?",
      "name": "p_is_all_entity",
      "options": {
       "widgetDisplayType": "Dropdown",
       "choices": [
        "yes",
        "no"
       ],
       "fixedDomain": true,
       "multiselect": false
      },
      "parameterDataType": "String"
     },
     "widgetInfo": {
      "widgetType": "dropdown",
      "defaultValue": "no",
      "label": "All tables?",
      "name": "p_is_all_entity",
      "options": {
       "widgetType": "dropdown",
       "autoCreated": null,
       "choices": [
        "yes",
        "no"
       ]
      }
     }
    }
   }
  },
  "language_info": {
   "name": "python"
  }
 },
 "nbformat": 4,
 "nbformat_minor": 0
}
