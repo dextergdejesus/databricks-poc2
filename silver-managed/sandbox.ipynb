{
 "cells": [
  {
   "cell_type": "code",
   "execution_count": 0,
   "metadata": {
    "application/vnd.databricks.v1+cell": {
     "cellMetadata": {
      "byteLimit": 2048000,
      "implicitDf": true,
      "rowLimit": 10000
     },
     "inputWidgets": {},
     "nuid": "c3a2751e-f6b4-4d6b-b97f-139a41ced7a1",
     "showTitle": false,
     "tableResultSettingsMap": {
      "0": {
       "dataGridStateBlob": "{\"version\":1,\"tableState\":{\"columnPinning\":{\"left\":[\"#row_number#\"],\"right\":[]},\"columnSizing\":{},\"columnVisibility\":{}},\"settings\":{\"columns\":{}},\"syncTimestamp\":1761213444107}",
       "filterBlob": null,
       "queryPlanFiltersBlob": null,
       "tableResultIndex": 0
      }
     },
     "title": ""
    }
   },
   "outputs": [],
   "source": [
    "%sql\n",
    "-- use catalog ceo_brz_dev;\n",
    "-- select * from dbo_managed.entity\n",
    "SELECT fg.FunctionGroupId,ft.FunctionTypeId,p.ProjectId FROM (SELECT FunctionGroupId FROM `ceo_slv_dev_managed`.`taxonomy`.`dim_function_group` WHERE FunctionGroup ='Administration') AS fg,(SELECT FunctionTypeId FROM `ceo_slv_dev_managed`.`taxonomy`.`dim_function_type` WHERE FunctionType ='Administrative Management') as ft,(SELECT ProjectId FROM `ceo_slv_dev_managed`.`arp`.`dim_project` WHERE ProjectName ='Administrative Services') as p WHERE fg.FunctionGroupId IS NOT NULL AND ft.FunctionTypeId IS NOT NULL AND p.ProjectId IS NOT NULL;"
   ]
  },
  {
   "cell_type": "code",
   "execution_count": 0,
   "metadata": {
    "application/vnd.databricks.v1+cell": {
     "cellMetadata": {
      "byteLimit": 2048000,
      "implicitDf": true,
      "rowLimit": 10000
     },
     "inputWidgets": {},
     "nuid": "a64f7d97-5875-495d-8576-2842081adefa",
     "showTitle": false,
     "tableResultSettingsMap": {
      "0": {
       "dataGridStateBlob": "{\"version\":1,\"tableState\":{\"columnPinning\":{\"left\":[\"#row_number#\"],\"right\":[]},\"columnSizing\":{\"ExecutionDate\":242,\"Stage\":181},\"columnVisibility\":{}},\"settings\":{\"columns\":{}},\"syncTimestamp\":1761100803035}",
       "filterBlob": null,
       "queryPlanFiltersBlob": null,
       "tableResultIndex": 0
      }
     },
     "title": ""
    }
   },
   "outputs": [],
   "source": [
    "%sql\n",
    "-- SELECT \n",
    "--                 xxhash64(concat_ws(\"|\",sg.SpendingGroupId,sc.SpendingCategoryId))               AS SpendingGroupCategoryId,\n",
    "--                 sg.SpendingGroupId                                                              AS SpendingGroupId,\n",
    "--                 CASE\n",
    "--                         WHEN UPPER(LEFT(sg.GroupName,18)) = 'STRATEGIC PILLAR 1'\n",
    "--                         THEN 'FIRST PILLAR'\n",
    "--                         WHEN UPPER(LEFT(sg.GroupName,18)) = 'STRATEGIC PILLAR 2'\n",
    "--                         THEN 'SECOND PILLAR'\n",
    "--                         WHEN UPPER(LEFT(sg.GroupName,18)) = 'STRATEGIC PILLAR 3'\n",
    "--                         THEN 'THIRD PILLAR'\n",
    "--                 END                                                                             AS SpendingGroupOrder,\n",
    "--                 sg.GroupName                                                                    AS SpendingGroup,\n",
    "--                 sc.SpendingCategoryId                                                           AS SpendingCategoryId,\n",
    "--                 LEFT(sc.CategoryName,INSTR(sc.CategoryName,\" \")-1)                              AS CategoryOrder,\n",
    "--                 RIGHT(sc.CategoryName,LENGTH(sc.CategoryName)-INSTR(sc.CategoryName,\" \"))       AS Category\n",
    "-- FROM            `ceo_slv_dev_managed`.`arp`.`dim_spending_group` sg \n",
    "-- INNER JOIN      `ceo_slv_dev_managed`.`arp`.`dim_spending_category` sc ON\n",
    "--                 sg.SpendingGroupId = sc.SpendingGroupId\n",
    "\n",
    "-- SELECT\n",
    "--                 p.ProjectId                                     AS ProjectId,\n",
    "--                 pc.SpendingGroupCategoryId                      AS SpendingGroupCategoryId,\n",
    "--                 IFNULL(p.RevisedAmount, p.BudgetAmount)         AS BudgetAllocation\n",
    "-- FROM            `ceo_slv_dev_managed`.`arp`.`dim_project` p\n",
    "-- INNER JOIN      `ceo_analytics_dev`.`dbo`.`dim_pillar_categories` pc ON\n",
    "--                 pc.SpendingCategoryId = p.SpendingCategoryId\n"
   ]
  },
  {
   "cell_type": "code",
   "execution_count": 0,
   "metadata": {
    "application/vnd.databricks.v1+cell": {
     "cellMetadata": {
      "byteLimit": 2048000,
      "implicitDf": true,
      "rowLimit": 10000
     },
     "inputWidgets": {},
     "nuid": "f2c29a3b-958e-48ce-9b77-98c3bdfd0db2",
     "showTitle": false,
     "tableResultSettingsMap": {
      "0": {
       "dataGridStateBlob": "{\"version\":1,\"tableState\":{\"columnPinning\":{\"left\":[\"#row_number#\"],\"right\":[]},\"columnSizing\":{},\"columnVisibility\":{}},\"settings\":{\"columns\":{}},\"syncTimestamp\":1761126738772}",
       "filterBlob": null,
       "queryPlanFiltersBlob": null,
       "tableResultIndex": 0
      }
     },
     "title": ""
    }
   },
   "outputs": [],
   "source": [
    "%sql\n",
    "select left(\"1.1 sparksql\",instr(\"1.1 sparksql\",\" \")-1)"
   ]
  },
  {
   "cell_type": "code",
   "execution_count": 0,
   "metadata": {
    "application/vnd.databricks.v1+cell": {
     "cellMetadata": {
      "byteLimit": 2048000,
      "implicitDf": true,
      "rowLimit": 10000
     },
     "inputWidgets": {},
     "nuid": "8eabc245-77ef-4259-8b95-f9d257ea26fa",
     "showTitle": false,
     "tableResultSettingsMap": {
      "0": {
       "dataGridStateBlob": "{\"version\":1,\"tableState\":{\"columnPinning\":{\"left\":[\"#row_number#\"],\"right\":[]},\"columnSizing\":{},\"columnVisibility\":{}},\"settings\":{\"columns\":{}},\"syncTimestamp\":1761203175846}",
       "filterBlob": null,
       "queryPlanFiltersBlob": null,
       "tableResultIndex": 0
      }
     },
     "title": ""
    }
   },
   "outputs": [],
   "source": [
    "%sql\n",
    "SELECT xxhash64(concat_ws(\"|\",SupervisorDistrict,GeoId)) AS DistrictCensusTractId,\n",
    "GeoId ,\n",
    "SupervisorDistrict AS District,\n",
    "RIGHT(GeoId,6) AS CesusTract\n",
    "FROM ceo_slv_dev_managed.arp.dim_census_tract \n",
    "\n"
   ]
  },
  {
   "cell_type": "code",
   "execution_count": 0,
   "metadata": {
    "application/vnd.databricks.v1+cell": {
     "cellMetadata": {
      "byteLimit": 2048000,
      "implicitDf": true,
      "rowLimit": 10000
     },
     "inputWidgets": {},
     "nuid": "58f6f539-fdb3-4ed8-8d29-82c8bf94f720",
     "showTitle": false,
     "tableResultSettingsMap": {},
     "title": ""
    }
   },
   "outputs": [],
   "source": [
    "%sql\n",
    "SELECT dct.DistrictCensusTractId ,\n",
    "qmt.Allocation,\n",
    "qmt.Expenditure,\n",
    "(qmt.Allocation- qmt.Expenditure) AS Variance\n",
    "FROM ceo_slv_dev_managed.arp.fact_quarterly_census_amount AS qmt\n",
    "INNER JOIN ceo_slv_dev_managed.arp.dim_census_tract AS ct\n",
    "ON \n",
    "ct.CensusTractId = qmt.CensusTractId\n",
    "INNER JOIN ceo_slv_dev_managed.insights.dim_district_census_tract AS dct\n",
    "ON \n",
    "dct.GeoId = ct.GeoId\n",
    "\n",
    "\n",
    "\n"
   ]
  },
  {
   "cell_type": "code",
   "execution_count": 0,
   "metadata": {
    "application/vnd.databricks.v1+cell": {
     "cellMetadata": {},
     "inputWidgets": {},
     "nuid": "4117ac73-3109-447d-aacc-686b15375138",
     "showTitle": true,
     "tableResultSettingsMap": {},
     "title": "US 8-10 Select query for Silver output"
    }
   },
   "outputs": [],
   "source": [
    "%sql\n",
    "SELECT\n",
    "    p.ProjectId,\n",
    "    d.DepartmentId,\n",
    "    sc.SpendingGroupCategoryId,\n",
    "    te.TreasuryExpenditureId,\n",
    "    IFNULL(p.RevisedAmount, p.BudgetAmount) AS BudgetAllocation\n",
    "FROM  ceo_slv_dev_managed.arp.dim_project  AS p\n",
    "INNER JOIN  ceo_slv_dev_managed.arp.dim_department  AS d   \n",
    "ON p.DepartmentId = d.DepartmentId\n",
    "INNER JOIN  ceo_slv_dev_managed.insights.dim_pillar_categories  AS sc \n",
    "ON p.SpendingCategoryId = sc.SpendingCategoryId\n",
    "INNER JOIN  ceo_slv_dev_managed.insights.dim_treasury_expenditure  AS te  \n",
    "ON p.TreasuryExpenditureId = te.TreasuryExpenditureId\n"
   ]
  }
 ],
 "metadata": {
  "application/vnd.databricks.v1+notebook": {
   "computePreferences": null,
   "dashboards": [],
   "environmentMetadata": {
    "base_environment": "",
    "environment_version": "3"
   },
   "inputWidgetPreferences": null,
   "language": "python",
   "notebookMetadata": {
    "mostRecentlyExecutedCommandWithImplicitDF": {
     "commandId": 4815875310805414,
     "dataframes": [
      "_sqldf"
     ]
    },
    "pythonIndentUnit": 4
   },
   "notebookName": "sandbox",
   "widgets": {}
  },
  "language_info": {
   "name": "python"
  }
 },
 "nbformat": 4,
 "nbformat_minor": 0
}
